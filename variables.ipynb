{
 "cells": [
  {
   "cell_type": "markdown",
   "id": "d8276847",
   "metadata": {},
   "source": [
    "# تعلم لغة البايثون"
   ]
  },
  {
   "cell_type": "markdown",
   "id": "0a303ce8",
   "metadata": {},
   "source": [
    "### variable types in python"
   ]
  },
  {
   "cell_type": "raw",
   "id": "7fc7f097",
   "metadata": {},
   "source": [
    "int , float , bool , list"
   ]
  },
  {
   "cell_type": "code",
   "execution_count": 20,
   "id": "fdefa09f",
   "metadata": {},
   "outputs": [],
   "source": [
    "my_int = 10"
   ]
  },
  {
   "cell_type": "code",
   "execution_count": 21,
   "id": "bb1b76e6",
   "metadata": {},
   "outputs": [],
   "source": [
    "my_float = 10.5"
   ]
  },
  {
   "cell_type": "code",
   "execution_count": 3,
   "id": "127c6fcb",
   "metadata": {},
   "outputs": [
    {
     "data": {
      "text/plain": [
       "bool"
      ]
     },
     "execution_count": 3,
     "metadata": {},
     "output_type": "execute_result"
    }
   ],
   "source": [
    "my_bool = True\n",
    "type(my_bool)"
   ]
  },
  {
   "cell_type": "code",
   "execution_count": 4,
   "id": "5b82689c",
   "metadata": {},
   "outputs": [
    {
     "data": {
      "text/plain": [
       "list"
      ]
     },
     "execution_count": 4,
     "metadata": {},
     "output_type": "execute_result"
    }
   ],
   "source": [
    "my_list = [\"car\" , \"bike\" , \"piano\"]\n",
    "type(my_list)"
   ]
  },
  {
   "cell_type": "code",
   "execution_count": 19,
   "id": "f70354f6",
   "metadata": {},
   "outputs": [
    {
     "data": {
      "text/plain": [
       "float"
      ]
     },
     "execution_count": 19,
     "metadata": {},
     "output_type": "execute_result"
    }
   ],
   "source": [
    "my_int = my_int / 10\n",
    "type(my_int)"
   ]
  },
  {
   "cell_type": "code",
   "execution_count": 7,
   "id": "b857b81d",
   "metadata": {},
   "outputs": [
    {
     "name": "stdout",
     "output_type": "stream",
     "text": [
      "12.8\n"
     ]
    }
   ],
   "source": [
    "my_float  = my_float+ 2.3\n",
    "print(my_float)"
   ]
  },
  {
   "cell_type": "code",
   "execution_count": 17,
   "id": "9c9d4292",
   "metadata": {},
   "outputs": [
    {
     "data": {
      "text/plain": [
       "int"
      ]
     },
     "execution_count": 17,
     "metadata": {},
     "output_type": "execute_result"
    }
   ],
   "source": [
    "my_int = 10\n",
    "type(my_int)"
   ]
  },
  {
   "cell_type": "code",
   "execution_count": 18,
   "id": "4ac08aad",
   "metadata": {},
   "outputs": [
    {
     "data": {
      "text/plain": [
       "float"
      ]
     },
     "execution_count": 18,
     "metadata": {},
     "output_type": "execute_result"
    }
   ],
   "source": [
    "my_int = 20 / 2\n",
    "type(my_int)"
   ]
  },
  {
   "cell_type": "code",
   "execution_count": 24,
   "id": "d1763a9e",
   "metadata": {},
   "outputs": [],
   "source": [
    "result = my_float / my_int"
   ]
  },
  {
   "cell_type": "code",
   "execution_count": 26,
   "id": "b5ea0470",
   "metadata": {},
   "outputs": [
    {
     "name": "stdout",
     "output_type": "stream",
     "text": [
      "1.05\n"
     ]
    }
   ],
   "source": [
    "print(result)"
   ]
  },
  {
   "cell_type": "code",
   "execution_count": 27,
   "id": "05956e45",
   "metadata": {},
   "outputs": [
    {
     "data": {
      "text/plain": [
       "float"
      ]
     },
     "execution_count": 27,
     "metadata": {},
     "output_type": "execute_result"
    }
   ],
   "source": [
    "type(result)"
   ]
  },
  {
   "cell_type": "code",
   "execution_count": 46,
   "id": "80fc1592",
   "metadata": {},
   "outputs": [],
   "source": [
    "number_of_apples = 20"
   ]
  },
  {
   "cell_type": "code",
   "execution_count": 47,
   "id": "109bd50c",
   "metadata": {},
   "outputs": [],
   "source": [
    "number_of_people = 2"
   ]
  },
  {
   "cell_type": "code",
   "execution_count": 38,
   "id": "62241714",
   "metadata": {},
   "outputs": [
    {
     "data": {
      "text/plain": [
       "2"
      ]
     },
     "execution_count": 38,
     "metadata": {},
     "output_type": "execute_result"
    }
   ],
   "source": [
    "number_of_apples // number_of_people"
   ]
  },
  {
   "cell_type": "code",
   "execution_count": 41,
   "id": "443740f8",
   "metadata": {},
   "outputs": [
    {
     "data": {
      "text/plain": [
       "6"
      ]
     },
     "execution_count": 41,
     "metadata": {},
     "output_type": "execute_result"
    }
   ],
   "source": [
    "number_of_apples % number_of_people"
   ]
  },
  {
   "cell_type": "code",
   "execution_count": 48,
   "id": "2b6cf464",
   "metadata": {},
   "outputs": [],
   "source": [
    "is_equal = False"
   ]
  },
  {
   "cell_type": "code",
   "execution_count": 49,
   "id": "12fad34c",
   "metadata": {},
   "outputs": [
    {
     "name": "stdout",
     "output_type": "stream",
     "text": [
      "True\n"
     ]
    }
   ],
   "source": [
    "if number_of_apples % number_of_people == 0:\n",
    "    is_equal = True\n",
    "    print(is_equal)\n",
    "else :\n",
    "    print(is_equal)"
   ]
  },
  {
   "cell_type": "code",
   "execution_count": 50,
   "id": "d7fb3c0d",
   "metadata": {},
   "outputs": [],
   "source": [
    "my_list = [\"car\" , \"bike\" , \"piano\"]"
   ]
  },
  {
   "cell_type": "code",
   "execution_count": 55,
   "id": "8840796c",
   "metadata": {},
   "outputs": [],
   "source": [
    "my_list.append(\"potato\")"
   ]
  },
  {
   "cell_type": "code",
   "execution_count": 57,
   "id": "2026a98b",
   "metadata": {},
   "outputs": [],
   "source": [
    "my_list[0] = \"moto\""
   ]
  },
  {
   "cell_type": "code",
   "execution_count": 58,
   "id": "7e0df42b",
   "metadata": {},
   "outputs": [
    {
     "data": {
      "text/plain": [
       "'moto'"
      ]
     },
     "execution_count": 58,
     "metadata": {},
     "output_type": "execute_result"
    }
   ],
   "source": [
    "my_list[0]"
   ]
  },
  {
   "cell_type": "code",
   "execution_count": null,
   "id": "2e710150",
   "metadata": {},
   "outputs": [],
   "source": []
  }
 ],
 "metadata": {
  "kernelspec": {
   "display_name": "Python 3 (ipykernel)",
   "language": "python",
   "name": "python3"
  },
  "language_info": {
   "codemirror_mode": {
    "name": "ipython",
    "version": 3
   },
   "file_extension": ".py",
   "mimetype": "text/x-python",
   "name": "python",
   "nbconvert_exporter": "python",
   "pygments_lexer": "ipython3",
   "version": "3.9.13"
  }
 },
 "nbformat": 4,
 "nbformat_minor": 5
}
